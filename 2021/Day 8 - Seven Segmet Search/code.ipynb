{
 "cells": [
  {
   "cell_type": "code",
   "execution_count": 1,
   "metadata": {},
   "outputs": [],
   "source": [
    "import pandas as pd"
   ]
  },
  {
   "cell_type": "code",
   "execution_count": 98,
   "metadata": {},
   "outputs": [
    {
     "data": {
      "text/html": [
       "<div>\n",
       "<style scoped>\n",
       "    .dataframe tbody tr th:only-of-type {\n",
       "        vertical-align: middle;\n",
       "    }\n",
       "\n",
       "    .dataframe tbody tr th {\n",
       "        vertical-align: top;\n",
       "    }\n",
       "\n",
       "    .dataframe thead th {\n",
       "        text-align: right;\n",
       "    }\n",
       "</style>\n",
       "<table border=\"1\" class=\"dataframe\">\n",
       "  <thead>\n",
       "    <tr style=\"text-align: right;\">\n",
       "      <th></th>\n",
       "      <th>0</th>\n",
       "    </tr>\n",
       "  </thead>\n",
       "  <tbody>\n",
       "    <tr>\n",
       "      <th>0</th>\n",
       "      <td>be cfbegad cbdgef fgaecd cgeb fdcge agebfd fec...</td>\n",
       "    </tr>\n",
       "    <tr>\n",
       "      <th>1</th>\n",
       "      <td>fdgacbe cefdb cefbgd gcbe</td>\n",
       "    </tr>\n",
       "    <tr>\n",
       "      <th>2</th>\n",
       "      <td>edbfga begcd cbg gc gcadebf fbgde acbgfd abcde...</td>\n",
       "    </tr>\n",
       "    <tr>\n",
       "      <th>3</th>\n",
       "      <td>fcgedb cgb dgebacf gc</td>\n",
       "    </tr>\n",
       "    <tr>\n",
       "      <th>4</th>\n",
       "      <td>fgaebd cg bdaec gdafb agbcfd gdcbef bgcad gfac...</td>\n",
       "    </tr>\n",
       "    <tr>\n",
       "      <th>5</th>\n",
       "      <td>cg cg fdcagb cbg</td>\n",
       "    </tr>\n",
       "    <tr>\n",
       "      <th>6</th>\n",
       "      <td>fbegcd cbd adcefb dageb afcb bc aefdc ecdab fg...</td>\n",
       "    </tr>\n",
       "    <tr>\n",
       "      <th>7</th>\n",
       "      <td>efabcd cedba gadfec cb</td>\n",
       "    </tr>\n",
       "    <tr>\n",
       "      <th>8</th>\n",
       "      <td>aecbfdg fbg gf bafeg dbefa fcge gcbea fcaegb d...</td>\n",
       "    </tr>\n",
       "    <tr>\n",
       "      <th>9</th>\n",
       "      <td>gecf egdcabf bgf bfgea</td>\n",
       "    </tr>\n",
       "    <tr>\n",
       "      <th>10</th>\n",
       "      <td>fgeab ca afcebg bdacfeg cfaedg gcfdb baec bfad...</td>\n",
       "    </tr>\n",
       "    <tr>\n",
       "      <th>11</th>\n",
       "      <td>gebdcfa ecba ca fadegcb</td>\n",
       "    </tr>\n",
       "    <tr>\n",
       "      <th>12</th>\n",
       "      <td>dbcfg fgd bdegcaf fgec aegbdf ecdfab fbedc dac...</td>\n",
       "    </tr>\n",
       "    <tr>\n",
       "      <th>13</th>\n",
       "      <td>cefg dcbef fcge gbcadfe</td>\n",
       "    </tr>\n",
       "    <tr>\n",
       "      <th>14</th>\n",
       "      <td>bdfegc cbegaf gecbf dfcage bdacg ed bedf ced a...</td>\n",
       "    </tr>\n",
       "    <tr>\n",
       "      <th>15</th>\n",
       "      <td>ed bcgafe cdgba cbgef</td>\n",
       "    </tr>\n",
       "    <tr>\n",
       "      <th>16</th>\n",
       "      <td>egadfb cdbfeg cegd fecab cgb gbdefca cg fgcdab...</td>\n",
       "    </tr>\n",
       "    <tr>\n",
       "      <th>17</th>\n",
       "      <td>gbdfcae bgc cg cgb</td>\n",
       "    </tr>\n",
       "    <tr>\n",
       "      <th>18</th>\n",
       "      <td>gcafb gcf dcaebfg ecagb gf abcdeg gaef cafbge ...</td>\n",
       "    </tr>\n",
       "    <tr>\n",
       "      <th>19</th>\n",
       "      <td>fgae cfgab fg bagce</td>\n",
       "    </tr>\n",
       "  </tbody>\n",
       "</table>\n",
       "</div>"
      ],
      "text/plain": [
       "                                                    0\n",
       "0   be cfbegad cbdgef fgaecd cgeb fdcge agebfd fec...\n",
       "1                           fdgacbe cefdb cefbgd gcbe\n",
       "2   edbfga begcd cbg gc gcadebf fbgde acbgfd abcde...\n",
       "3                               fcgedb cgb dgebacf gc\n",
       "4   fgaebd cg bdaec gdafb agbcfd gdcbef bgcad gfac...\n",
       "5                                    cg cg fdcagb cbg\n",
       "6   fbegcd cbd adcefb dageb afcb bc aefdc ecdab fg...\n",
       "7                              efabcd cedba gadfec cb\n",
       "8   aecbfdg fbg gf bafeg dbefa fcge gcbea fcaegb d...\n",
       "9                              gecf egdcabf bgf bfgea\n",
       "10  fgeab ca afcebg bdacfeg cfaedg gcfdb baec bfad...\n",
       "11                            gebdcfa ecba ca fadegcb\n",
       "12  dbcfg fgd bdegcaf fgec aegbdf ecdfab fbedc dac...\n",
       "13                            cefg dcbef fcge gbcadfe\n",
       "14  bdfegc cbegaf gecbf dfcage bdacg ed bedf ced a...\n",
       "15                              ed bcgafe cdgba cbgef\n",
       "16  egadfb cdbfeg cegd fecab cgb gbdefca cg fgcdab...\n",
       "17                                 gbdfcae bgc cg cgb\n",
       "18  gcafb gcf dcaebfg ecagb gf abcdeg gaef cafbge ...\n",
       "19                                fgae cfgab fg bagce"
      ]
     },
     "execution_count": 98,
     "metadata": {},
     "output_type": "execute_result"
    }
   ],
   "source": [
    "input = pd.read_csv(\"test_input.txt\", header=None)\n",
    "input"
   ]
  },
  {
   "cell_type": "code",
   "execution_count": 123,
   "metadata": {},
   "outputs": [],
   "source": [
    "#numbers = pd.DataFrame([i.split('|')[1] for i in input[0]])[0].str.split(expand=True)\n",
    "\n",
    "numbers = input.loc[1::2][0].str.split(expand=True)"
   ]
  },
  {
   "cell_type": "code",
   "execution_count": 125,
   "metadata": {},
   "outputs": [
    {
     "ename": "TypeError",
     "evalue": "'int' object is not iterable",
     "output_type": "error",
     "traceback": [
      "\u001b[1;31m---------------------------------------------------------------------------\u001b[0m",
      "\u001b[1;31mTypeError\u001b[0m                                 Traceback (most recent call last)",
      "\u001b[1;32m~\\AppData\\Local\\Temp/ipykernel_26984/352539593.py\u001b[0m in \u001b[0;36m<module>\u001b[1;34m\u001b[0m\n\u001b[0;32m      1\u001b[0m \u001b[1;32mfor\u001b[0m \u001b[0mindex\u001b[0m\u001b[1;33m,\u001b[0m \u001b[0mrow\u001b[0m \u001b[1;32min\u001b[0m \u001b[0mnumbers\u001b[0m\u001b[1;33m.\u001b[0m\u001b[0miterrows\u001b[0m\u001b[1;33m(\u001b[0m\u001b[1;33m)\u001b[0m\u001b[1;33m:\u001b[0m\u001b[1;33m\u001b[0m\u001b[1;33m\u001b[0m\u001b[0m\n\u001b[1;32m----> 2\u001b[1;33m     \u001b[0mrow\u001b[0m\u001b[1;33m[\u001b[0m\u001b[1;36m0\u001b[0m\u001b[1;33m]\u001b[0m \u001b[1;33m=\u001b[0m \u001b[1;34m''\u001b[0m\u001b[1;33m.\u001b[0m\u001b[0mjoin\u001b[0m\u001b[1;33m(\u001b[0m\u001b[0msorted\u001b[0m\u001b[1;33m(\u001b[0m\u001b[0mrow\u001b[0m\u001b[1;33m[\u001b[0m\u001b[1;36m0\u001b[0m\u001b[1;33m]\u001b[0m\u001b[1;33m)\u001b[0m\u001b[1;33m)\u001b[0m\u001b[1;33m\u001b[0m\u001b[1;33m\u001b[0m\u001b[0m\n\u001b[0m\u001b[0;32m      3\u001b[0m     \u001b[0mrow\u001b[0m\u001b[1;33m[\u001b[0m\u001b[1;36m1\u001b[0m\u001b[1;33m]\u001b[0m \u001b[1;33m=\u001b[0m \u001b[1;34m''\u001b[0m\u001b[1;33m.\u001b[0m\u001b[0mjoin\u001b[0m\u001b[1;33m(\u001b[0m\u001b[0msorted\u001b[0m\u001b[1;33m(\u001b[0m\u001b[0mrow\u001b[0m\u001b[1;33m[\u001b[0m\u001b[1;36m1\u001b[0m\u001b[1;33m]\u001b[0m\u001b[1;33m)\u001b[0m\u001b[1;33m)\u001b[0m\u001b[1;33m\u001b[0m\u001b[1;33m\u001b[0m\u001b[0m\n\u001b[0;32m      4\u001b[0m     \u001b[0mrow\u001b[0m\u001b[1;33m[\u001b[0m\u001b[1;36m2\u001b[0m\u001b[1;33m]\u001b[0m \u001b[1;33m=\u001b[0m \u001b[1;34m''\u001b[0m\u001b[1;33m.\u001b[0m\u001b[0mjoin\u001b[0m\u001b[1;33m(\u001b[0m\u001b[0msorted\u001b[0m\u001b[1;33m(\u001b[0m\u001b[0mrow\u001b[0m\u001b[1;33m[\u001b[0m\u001b[1;36m2\u001b[0m\u001b[1;33m]\u001b[0m\u001b[1;33m)\u001b[0m\u001b[1;33m)\u001b[0m\u001b[1;33m\u001b[0m\u001b[1;33m\u001b[0m\u001b[0m\n\u001b[0;32m      5\u001b[0m     \u001b[0mrow\u001b[0m\u001b[1;33m[\u001b[0m\u001b[1;36m3\u001b[0m\u001b[1;33m]\u001b[0m \u001b[1;33m=\u001b[0m \u001b[1;34m''\u001b[0m\u001b[1;33m.\u001b[0m\u001b[0mjoin\u001b[0m\u001b[1;33m(\u001b[0m\u001b[0msorted\u001b[0m\u001b[1;33m(\u001b[0m\u001b[0mrow\u001b[0m\u001b[1;33m[\u001b[0m\u001b[1;36m3\u001b[0m\u001b[1;33m]\u001b[0m\u001b[1;33m)\u001b[0m\u001b[1;33m)\u001b[0m\u001b[1;33m\u001b[0m\u001b[1;33m\u001b[0m\u001b[0m\n",
      "\u001b[1;31mTypeError\u001b[0m: 'int' object is not iterable"
     ]
    }
   ],
   "source": [
    "for index, row in numbers.iterrows():\n",
    "    row[0] = ''.join(sorted(row[0]))\n",
    "    row[1] = ''.join(sorted(row[1]))\n",
    "    row[2] = ''.join(sorted(row[2]))\n",
    "    row[3] = ''.join(sorted(row[3]))\n",
    "\n",
    "numbers = numbers.replace('cg', 1)\n",
    "numbers = numbers.replace('bc', 1)\n",
    "numbers = numbers.replace('abcdg', 2)\n",
    "numbers = numbers.replace('bcdef', 3)\n",
    "numbers = numbers.replace('abcde', 3)\n",
    "numbers = numbers.replace('bceg', 4)\n",
    "numbers = numbers.replace('abceg', 5)\n",
    "numbers = numbers.replace('acdefg', 6)\n",
    "numbers = numbers.replace('bcg', 7)\n",
    "numbers = numbers.replace('abcdefg', 8)\n",
    "numbers = numbers.replace('abcdfg', 9)\n",
    "numbers = numbers.replace('bcdefg', 9)\n",
    "numbers = numbers.replace('abcdef', 9)\n",
    "numbers = numbers.replace('', 0)\n",
    "\n",
    "\n",
    "numbers"
   ]
  },
  {
   "cell_type": "code",
   "execution_count": 36,
   "metadata": {},
   "outputs": [],
   "source": [
    "numbers = input[1::2][0].str.split()"
   ]
  },
  {
   "cell_type": "code",
   "execution_count": 56,
   "metadata": {},
   "outputs": [
    {
     "data": {
      "text/plain": [
       "278"
      ]
     },
     "execution_count": 56,
     "metadata": {},
     "output_type": "execute_result"
    }
   ],
   "source": [
    "count = 0\n",
    "for x in numbers:\n",
    "    for y in x:\n",
    "        if((len(y) == 2) or (len(y) == 4) or (len(y) == 3) or (len(y) == 7)):\n",
    "            count += 1\n",
    "count"
   ]
  },
  {
   "cell_type": "code",
   "execution_count": 38,
   "metadata": {},
   "outputs": [
    {
     "data": {
      "text/plain": [
       "1     [fdgacbe, cefdb, cefbgd, gcbe]\n",
       "3         [fcgedb, cgb, dgebacf, gc]\n",
       "5              [cg, cg, fdcagb, cbg]\n",
       "7        [efabcd, cedba, gadfec, cb]\n",
       "9        [gecf, egdcabf, bgf, bfgea]\n",
       "11      [gebdcfa, ecba, ca, fadegcb]\n",
       "13      [cefg, dcbef, fcge, gbcadfe]\n",
       "15        [ed, bcgafe, cdgba, cbgef]\n",
       "17           [gbdfcae, bgc, cg, cgb]\n",
       "19          [fgae, cfgab, fg, bagce]\n",
       "Name: 0, dtype: object"
      ]
     },
     "execution_count": 38,
     "metadata": {},
     "output_type": "execute_result"
    }
   ],
   "source": [
    "numbers"
   ]
  },
  {
   "cell_type": "code",
   "execution_count": null,
   "metadata": {},
   "outputs": [],
   "source": []
  }
 ],
 "metadata": {
  "interpreter": {
   "hash": "059a0309fe5e18a46b6b6fec9c6a660abb01511186781538d58341113bda7375"
  },
  "kernelspec": {
   "display_name": "Python 3.6.8 64-bit ('dvb.bdp.model.bitbucketrecommendation-9Hu3nx2q-py3.6': poetry)",
   "language": "python",
   "name": "python3"
  },
  "language_info": {
   "codemirror_mode": {
    "name": "ipython",
    "version": 3
   },
   "file_extension": ".py",
   "mimetype": "text/x-python",
   "name": "python",
   "nbconvert_exporter": "python",
   "pygments_lexer": "ipython3",
   "version": "3.9.7"
  },
  "orig_nbformat": 4
 },
 "nbformat": 4,
 "nbformat_minor": 2
}
