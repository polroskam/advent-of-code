{
 "cells": [
  {
   "cell_type": "code",
   "execution_count": 2,
   "metadata": {},
   "outputs": [],
   "source": [
    "import pandas as pd"
   ]
  },
  {
   "cell_type": "code",
   "execution_count": 6,
   "metadata": {},
   "outputs": [
    {
     "data": {
      "text/html": [
       "<div>\n",
       "<style scoped>\n",
       "    .dataframe tbody tr th:only-of-type {\n",
       "        vertical-align: middle;\n",
       "    }\n",
       "\n",
       "    .dataframe tbody tr th {\n",
       "        vertical-align: top;\n",
       "    }\n",
       "\n",
       "    .dataframe thead th {\n",
       "        text-align: right;\n",
       "    }\n",
       "</style>\n",
       "<table border=\"1\" class=\"dataframe\">\n",
       "  <thead>\n",
       "    <tr style=\"text-align: right;\">\n",
       "      <th></th>\n",
       "      <th>0</th>\n",
       "    </tr>\n",
       "  </thead>\n",
       "  <tbody>\n",
       "    <tr>\n",
       "      <th>0</th>\n",
       "      <td>fgcae ebafc cabdef eg abecfg abgfed feg gafdc ...</td>\n",
       "    </tr>\n",
       "    <tr>\n",
       "      <th>1</th>\n",
       "      <td>eagd cad fgadbc aefdcg dcebfg fcegd cbeaf ad d...</td>\n",
       "    </tr>\n",
       "    <tr>\n",
       "      <th>2</th>\n",
       "      <td>gfdeca aeb eb fbdag eafdc adfbe cefdab bdaegcf...</td>\n",
       "    </tr>\n",
       "    <tr>\n",
       "      <th>3</th>\n",
       "      <td>facbdge efdg gcafd daegc caegb aecfdb ade ed g...</td>\n",
       "    </tr>\n",
       "    <tr>\n",
       "      <th>4</th>\n",
       "      <td>dcaegbf bc dcgeab cbgad cebg cdfaeb fbadg acdg...</td>\n",
       "    </tr>\n",
       "    <tr>\n",
       "      <th>...</th>\n",
       "      <td>...</td>\n",
       "    </tr>\n",
       "    <tr>\n",
       "      <th>195</th>\n",
       "      <td>edfcga bcegd baeg cbgdae agdbc gce acgdebf eg ...</td>\n",
       "    </tr>\n",
       "    <tr>\n",
       "      <th>196</th>\n",
       "      <td>adfbe dg cagef dfgb gdbeca aefdg gda edcbaf fd...</td>\n",
       "    </tr>\n",
       "    <tr>\n",
       "      <th>197</th>\n",
       "      <td>cd edcbfg dbage fcaebdg facd bgcfea afbedc afb...</td>\n",
       "    </tr>\n",
       "    <tr>\n",
       "      <th>198</th>\n",
       "      <td>gdcbf da ecgbfda adc adgb bagcfd dfbcea egfac ...</td>\n",
       "    </tr>\n",
       "    <tr>\n",
       "      <th>199</th>\n",
       "      <td>bcg bc gdcbae dbca abfgde gdeba ebfacdg egcba ...</td>\n",
       "    </tr>\n",
       "  </tbody>\n",
       "</table>\n",
       "<p>200 rows × 1 columns</p>\n",
       "</div>"
      ],
      "text/plain": [
       "                                                     0\n",
       "0    fgcae ebafc cabdef eg abecfg abgfed feg gafdc ...\n",
       "1    eagd cad fgadbc aefdcg dcebfg fcegd cbeaf ad d...\n",
       "2    gfdeca aeb eb fbdag eafdc adfbe cefdab bdaegcf...\n",
       "3    facbdge efdg gcafd daegc caegb aecfdb ade ed g...\n",
       "4    dcaegbf bc dcgeab cbgad cebg cdfaeb fbadg acdg...\n",
       "..                                                 ...\n",
       "195  edfcga bcegd baeg cbgdae agdbc gce acgdebf eg ...\n",
       "196  adfbe dg cagef dfgb gdbeca aefdg gda edcbaf fd...\n",
       "197  cd edcbfg dbage fcaebdg facd bgcfea afbedc afb...\n",
       "198  gdcbf da ecgbfda adc adgb bagcfd dfbcea egfac ...\n",
       "199  bcg bc gdcbae dbca abfgde gdeba ebfacdg egcba ...\n",
       "\n",
       "[200 rows x 1 columns]"
      ]
     },
     "execution_count": 6,
     "metadata": {},
     "output_type": "execute_result"
    }
   ],
   "source": [
    "input = pd.read_csv(\"input.txt\", header=None)\n",
    "input"
   ]
  },
  {
   "cell_type": "code",
   "execution_count": 7,
   "metadata": {},
   "outputs": [],
   "source": [
    "numbers = pd.DataFrame([i.split('|')[1] for i in input[0]])[0].str.split(expand=True)\n",
    "\n",
    "# numbers = input.loc[1::2][0].str.split(expand=True)"
   ]
  },
  {
   "cell_type": "code",
   "execution_count": 8,
   "metadata": {},
   "outputs": [],
   "source": [
    "numbers = input[1::2][0].str.split()"
   ]
  },
  {
   "cell_type": "code",
   "execution_count": 9,
   "metadata": {},
   "outputs": [
    {
     "data": {
      "text/plain": [
       "542"
      ]
     },
     "execution_count": 9,
     "metadata": {},
     "output_type": "execute_result"
    }
   ],
   "source": [
    "count = 0\n",
    "for x in numbers:\n",
    "    for y in x:\n",
    "        if((len(y) == 2) or (len(y) == 4) or (len(y) == 3) or (len(y) == 7)):\n",
    "            count += 1\n",
    "count"
   ]
  },
  {
   "cell_type": "code",
   "execution_count": null,
   "metadata": {},
   "outputs": [],
   "source": []
  }
 ],
 "metadata": {
  "interpreter": {
   "hash": "059a0309fe5e18a46b6b6fec9c6a660abb01511186781538d58341113bda7375"
  },
  "kernelspec": {
   "display_name": "Python 3.6.8 64-bit ('dvb.bdp.model.bitbucketrecommendation-9Hu3nx2q-py3.6': poetry)",
   "language": "python",
   "name": "python3"
  },
  "language_info": {
   "codemirror_mode": {
    "name": "ipython",
    "version": 3
   },
   "file_extension": ".py",
   "mimetype": "text/x-python",
   "name": "python",
   "nbconvert_exporter": "python",
   "pygments_lexer": "ipython3",
   "version": "3.9.7"
  },
  "orig_nbformat": 4
 },
 "nbformat": 4,
 "nbformat_minor": 2
}
